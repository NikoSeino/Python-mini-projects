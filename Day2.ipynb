{
  "nbformat": 4,
  "nbformat_minor": 0,
  "metadata": {
    "colab": {
      "provenance": []
    },
    "kernelspec": {
      "name": "python3",
      "display_name": "Python 3"
    },
    "language_info": {
      "name": "python"
    }
  },
  "cells": [
    {
      "cell_type": "code",
      "execution_count": null,
      "metadata": {
        "id": "3DOzGP2SSjti"
      },
      "outputs": [],
      "source": [
        "#calculate number of characters in a name\n",
        "\n",
        "num_char = len(input(\"What is your name?\"))\n",
        "#convert num_char from int to string (str)\n",
        "new_num_char = str(num_char)\n",
        "print(\"Your name has \" + new_num_char + \" characters.\")"
      ]
    },
    {
      "cell_type": "code",
      "source": [
        "#write a code that calculates the sum of the digits in a 2 digit number\n",
        "\n",
        "two_digit_number = input(\"Type a two digit number: \")\n",
        "print(int(two_digit_number[0]) + int(two_digit_number[1]))\n",
        "\n",
        "#note the change in data type from str to int to allow calculation"
      ],
      "metadata": {
        "id": "POzu4PwDTR-8"
      },
      "execution_count": null,
      "outputs": []
    },
    {
      "cell_type": "code",
      "source": [
        "#write a code that calculates BMI (BMI=weight*703/height^2) for lbs, inches\n",
        "\n",
        "height = input(\"enter your height in inches: \")\n",
        "weight = input(\"enter your weight in lbs: \")\n",
        "bmi = (int(weight)*703)/float(height)**2\n",
        "print(int(bmi))"
      ],
      "metadata": {
        "id": "VPIC7cmwYvrV"
      },
      "execution_count": null,
      "outputs": []
    },
    {
      "cell_type": "code",
      "source": [
        "#modifying numbers\n",
        "\n",
        "round((8/3), 2)"
      ],
      "metadata": {
        "colab": {
          "base_uri": "https://localhost:8080/"
        },
        "id": "v1SkZqr4eB3F",
        "outputId": "dce60ac8-a0a8-485c-c988-b87baf2d9537"
      },
      "execution_count": 14,
      "outputs": [
        {
          "output_type": "execute_result",
          "data": {
            "text/plain": [
              "2.67"
            ]
          },
          "metadata": {},
          "execution_count": 14
        }
      ]
    },
    {
      "cell_type": "code",
      "source": [
        "print(8 // 3)"
      ],
      "metadata": {
        "colab": {
          "base_uri": "https://localhost:8080/"
        },
        "id": "3g1ItqWEekuC",
        "outputId": "e8f9c6fa-7073-440f-ad6a-67b6764306a5"
      },
      "execution_count": 15,
      "outputs": [
        {
          "output_type": "stream",
          "name": "stdout",
          "text": [
            "2\n"
          ]
        }
      ]
    },
    {
      "cell_type": "code",
      "source": [
        "score = 0\n",
        "score += 1\n",
        "print(score)"
      ],
      "metadata": {
        "colab": {
          "base_uri": "https://localhost:8080/"
        },
        "id": "mqOJNqCeepGS",
        "outputId": "cd9ccbf1-60b4-4134-8b38-384f11f8c40b"
      },
      "execution_count": 16,
      "outputs": [
        {
          "output_type": "stream",
          "name": "stdout",
          "text": [
            "1\n"
          ]
        }
      ]
    },
    {
      "cell_type": "code",
      "source": [
        "#f-string: converts everything to string; put numerical values in {}\n",
        "\n",
        "print(f\"your score is {score}\")"
      ],
      "metadata": {
        "colab": {
          "base_uri": "https://localhost:8080/"
        },
        "id": "-XKygzMMfI_t",
        "outputId": "e711bf3c-e9b2-4e58-845f-2ee4b6104b0f"
      },
      "execution_count": 18,
      "outputs": [
        {
          "output_type": "stream",
          "name": "stdout",
          "text": [
            "your score is 1\n"
          ]
        }
      ]
    },
    {
      "cell_type": "code",
      "source": [
        "#create a program that tells how many days, weeks, and months we have left to live until 90 years old.\n",
        "\n",
        "age = input(\"What is your age? \")\n",
        "years_remaining = 90-int(age)\n",
        "days_remaining = years_remaining * 365\n",
        "weeks_remaining = years_remaining * 52\n",
        "months_remaining = years_remaining * 12\n",
        "\n",
        "print(f\"You have {days_remaining} days, {weeks_remaining} weeks, and {months_remaining} months left.\")"
      ],
      "metadata": {
        "id": "g1htyIxwf0E1"
      },
      "execution_count": null,
      "outputs": []
    },
    {
      "cell_type": "code",
      "source": [
        "#create a tip calculator\n",
        "\n",
        "print(\"Welcome to the tip calculator.\")\n",
        "bill = float(input(\"What was the total bill? $\"))\n",
        "tip= int(input(\"What percent tip would you like to give? 10, 12, 15, or 20 \"))\n",
        "people = int(input(\"How many people to split the bill? \"))\n",
        "\n",
        "bill_with_tip = (tip / 100) * bill + bill\n",
        "bill_per_person = bill_with_tip / people\n",
        "#final = round(bill_per_person, 2)  -> this does not always work, so use format below\n",
        "final = \"{:.2f}\".format(bill_per_person)\n",
        "\n",
        "print(f\"Each person should pay ${final} total.\")\n",
        "\n"
      ],
      "metadata": {
        "id": "CMOA_EKGhTMv"
      },
      "execution_count": null,
      "outputs": []
    }
  ]
}