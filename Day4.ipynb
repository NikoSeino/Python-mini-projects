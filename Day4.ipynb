{
  "nbformat": 4,
  "nbformat_minor": 0,
  "metadata": {
    "colab": {
      "provenance": []
    },
    "kernelspec": {
      "name": "python3",
      "display_name": "Python 3"
    },
    "language_info": {
      "name": "python"
    }
  },
  "cells": [
    {
      "cell_type": "code",
      "execution_count": null,
      "metadata": {
        "id": "kJYFuOko1I7o"
      },
      "outputs": [],
      "source": [
        "#Python random module\n",
        "import random"
      ]
    },
    {
      "cell_type": "code",
      "source": [
        "#generate a random integer between range a and b: randint(a, b)\n",
        "random.randint(1, 530)\n"
      ],
      "metadata": {
        "colab": {
          "base_uri": "https://localhost:8080/"
        },
        "id": "JW4Lgu-XJ9dB",
        "outputId": "c603a71a-c163-48ae-e2f4-cf822ac0b21d"
      },
      "execution_count": null,
      "outputs": [
        {
          "output_type": "execute_result",
          "data": {
            "text/plain": [
              "412"
            ]
          },
          "metadata": {},
          "execution_count": 3
        }
      ]
    },
    {
      "cell_type": "code",
      "source": [
        "#generate random float number between 0 and 1\n",
        "random.random()"
      ],
      "metadata": {
        "colab": {
          "base_uri": "https://localhost:8080/"
        },
        "id": "EACrZyO1KRrX",
        "outputId": "5796c095-1404-4b5e-80ae-ffcd973cf33c"
      },
      "execution_count": null,
      "outputs": [
        {
          "output_type": "execute_result",
          "data": {
            "text/plain": [
              "0.9245692985147913"
            ]
          },
          "metadata": {},
          "execution_count": 4
        }
      ]
    },
    {
      "cell_type": "code",
      "source": [
        "#coin flip generator\n",
        "random_side = random.randint(0, 1)\n",
        "if random_side == 1:\n",
        "  print(\"Heads\")\n",
        "else:\n",
        "  print(\"Tails\")"
      ],
      "metadata": {
        "id": "vtdoI9ioMVwg",
        "colab": {
          "base_uri": "https://localhost:8080/"
        },
        "outputId": "e240d762-5960-4f1e-d173-2cd4af6ac5f2"
      },
      "execution_count": null,
      "outputs": [
        {
          "output_type": "stream",
          "name": "stdout",
          "text": [
            "Heads\n"
          ]
        }
      ]
    },
    {
      "cell_type": "code",
      "source": [
        "#random name selector\n",
        "names_string = input(\"Give me everybody's names, separated by a comma. \")\n",
        "names = names_string.split(\", \")\n",
        "\n",
        "num_items = (len(names))\n",
        "rand_choice = random.randint(0, num_items - 1)\n",
        "person_who_will_pay = names[rand_choice]\n",
        "print(person_who_will_pay + \" is going to buy the meal today.\")"
      ],
      "metadata": {
        "colab": {
          "base_uri": "https://localhost:8080/"
        },
        "id": "_-z-st9uEeMs",
        "outputId": "9bb0f861-9055-4fb4-9557-6c5132f0bfdb"
      },
      "execution_count": null,
      "outputs": [
        {
          "output_type": "stream",
          "name": "stdout",
          "text": [
            "Give me everybody's names, separated by a comma. niko, chris, kendrick, chance\n",
            "niko is going to buy the meal today.\n"
          ]
        }
      ]
    },
    {
      "cell_type": "code",
      "source": [
        "#random name generator version 2 using random_choice\n",
        "names_string = input(\"Give me everybody's names, separated by a comma. \")\n",
        "names = names_string.split(\", \")\n",
        "person_who_will_pay = random.choice(names)\n",
        "print(person_who_will_pay + \" is going to buy the meal today.\")"
      ],
      "metadata": {
        "colab": {
          "base_uri": "https://localhost:8080/"
        },
        "id": "JvBQqw02KP0a",
        "outputId": "64f698e5-2f3e-4d8a-d343-c4491a021a71"
      },
      "execution_count": null,
      "outputs": [
        {
          "output_type": "stream",
          "name": "stdout",
          "text": [
            "Give me everybody's names, separated by a comma. niko, chris, kendrick, chance\n",
            "kendrick is going to buy the meal today.\n"
          ]
        }
      ]
    },
    {
      "cell_type": "code",
      "source": [
        "#make a treasure map\n",
        "row1 = [\"⬜️\",\"️⬜️\",\"️⬜️\"]\n",
        "row2 = [\"⬜️\",\"⬜️\",\"️⬜️\"]\n",
        "row3 = [\"⬜️️\",\"⬜️️\",\"⬜️️\"]\n",
        "map = [row1, row2, row3]\n",
        "print(f\"{row1}\\n{row2}\\n{row3}\")\n",
        "position = input(\"Where do you want to put the treasure? \")\n",
        "column = int(position[0])\n",
        "row = int(position[1])\n",
        "map[row-1][column-1] = \"X\"\n",
        "print(f\"{row1}\\n{row2}\\n{row3}\")"
      ],
      "metadata": {
        "id": "qA6QzDnVK2QJ",
        "colab": {
          "base_uri": "https://localhost:8080/"
        },
        "outputId": "f9430653-c482-41de-d99b-fc96f55868c4"
      },
      "execution_count": null,
      "outputs": [
        {
          "output_type": "stream",
          "name": "stdout",
          "text": [
            "['⬜️', '️⬜️', '️⬜️']\n",
            "['⬜️', '⬜️', '️⬜️']\n",
            "['⬜️️', '⬜️️', '⬜️️']\n",
            "Where do you want to put the treasure? 23\n",
            "['⬜️', '️⬜️', '️⬜️']\n",
            "['⬜️', '⬜️', '️⬜️']\n",
            "['⬜️️', 'X', '⬜️️']\n"
          ]
        }
      ]
    },
    {
      "cell_type": "code",
      "source": [
        "#Rock, paper, scissors game\n",
        "rock = '''\n",
        "    _______\n",
        "---'   ____)\n",
        "      (_____)\n",
        "      (_____)\n",
        "      (____)\n",
        "---.__(___)\n",
        "'''\n",
        "\n",
        "paper = '''\n",
        "    _______\n",
        "---'   ____)____\n",
        "          ______)\n",
        "          _______)\n",
        "         _______)\n",
        "---.__________)\n",
        "'''\n",
        "\n",
        "scissors = '''\n",
        "    _______\n",
        "---'   ____)____\n",
        "          ______)\n",
        "       __________)\n",
        "      (____)\n",
        "---.__(___)\n",
        "'''\n",
        "choice = int(input(\"What do you choose? Type 0 for rock, 1 for paper, or 2 for scissors.\"))\n",
        "computer = random.randint(0, 2)\n",
        "list = [rock, paper, scissors]\n",
        "\n",
        "print(\"Computer chose: \")\n",
        "print(list[computer])\n",
        "\n",
        "if choice >= 3 or choice < 0:\n",
        "  print(\"You typed an invalid number, you lose.\")\n",
        "elif choice == 0 and computer == 2:\n",
        "  print(\"You win!\")\n",
        "elif computer > choice:\n",
        "  print(\"You lose.\")\n",
        "elif choice > computer:\n",
        "  print(\"You win!\")\n",
        "elif computer == choice:\n",
        "  print(\"It's a draw\")\n",
        "elif computer == 0 and choice == 2:\n",
        "  print(\"You lose\")\n"
      ],
      "metadata": {
        "colab": {
          "base_uri": "https://localhost:8080/"
        },
        "id": "p141FRr_xs67",
        "outputId": "cdd16897-8f63-40a0-d942-ee3b4ad05e20"
      },
      "execution_count": null,
      "outputs": [
        {
          "output_type": "stream",
          "name": "stdout",
          "text": [
            "What do you choose? Type 0 for rock, 1 for paper, or 2 for scissors.1\n",
            "Computer chose: \n",
            "\n",
            "    _______\n",
            "---'   ____)\n",
            "      (_____)\n",
            "      (_____)\n",
            "      (____)\n",
            "---.__(___)\n",
            "\n",
            "You win!\n"
          ]
        }
      ]
    }
  ]
}