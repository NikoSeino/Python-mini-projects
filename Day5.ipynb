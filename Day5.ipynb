{
  "nbformat": 4,
  "nbformat_minor": 0,
  "metadata": {
    "colab": {
      "provenance": []
    },
    "kernelspec": {
      "name": "python3",
      "display_name": "Python 3"
    },
    "language_info": {
      "name": "python"
    }
  },
  "cells": [
    {
      "cell_type": "code",
      "execution_count": null,
      "metadata": {
        "colab": {
          "base_uri": "https://localhost:8080/"
        },
        "id": "0zN2OK2ISqN-",
        "outputId": "b53e3f89-f1e9-44e3-f71b-8441178f78e8"
      },
      "outputs": [
        {
          "output_type": "stream",
          "name": "stdout",
          "text": [
            "apple pie\n",
            "banana pie\n",
            "peach pie\n"
          ]
        }
      ],
      "source": [
        "#simple loop\n",
        "fruits = [\"apple\", \"banana\", \"peach\"]\n",
        "for fruit in fruits:\n",
        "  print(fruit + \" pie\")"
      ]
    },
    {
      "cell_type": "code",
      "source": [
        "#use a for loop to calculate average heights \n",
        "student_heights = input(\"Input a list of student heights \").split()\n",
        "for n in range(0, len(student_heights)):\n",
        "  student_heights[n] = int(student_heights[n])\n",
        "\n",
        "total_height = 0\n",
        "for height in student_heights:\n",
        "  total_height += height\n",
        "#print(total_height)\n",
        "\n",
        "number_of_students = 0\n",
        "for student in student_heights:\n",
        "  number_of_students += 1\n",
        "#print(number_of_students)\n",
        "print(round(total_height / number_of_students))"
      ],
      "metadata": {
        "colab": {
          "base_uri": "https://localhost:8080/"
        },
        "id": "OPG9G8imTATY",
        "outputId": "24331f95-7aa1-4b74-d52e-6385e7dcbb83"
      },
      "execution_count": null,
      "outputs": [
        {
          "output_type": "stream",
          "name": "stdout",
          "text": [
            "Input a list of student heights 156 178 165 171 187\n",
            "171\n"
          ]
        }
      ]
    },
    {
      "cell_type": "code",
      "source": [
        "#use a for loop to find the highest score in a list\n",
        "student_scores = input(\"Input a list of student scores \").split()\n",
        "for n in range(0, len(student_scores)):\n",
        "  student_scores[n] = int(student_scores[n])\n",
        "#print(student_scores)\n",
        "\n",
        "high_score = 0\n",
        "for score in student_scores:\n",
        "  if score > high_score:\n",
        "    high_score = score\n",
        "print(f\"the highest score in the class is: {high_score}\")"
      ],
      "metadata": {
        "colab": {
          "base_uri": "https://localhost:8080/"
        },
        "id": "FjmkaQSuYFLu",
        "outputId": "445c0d1d-d1db-4a40-cb77-b7cdd871c780"
      },
      "execution_count": null,
      "outputs": [
        {
          "output_type": "stream",
          "name": "stdout",
          "text": [
            "Input a list of student scores 78 65 89 86 55 91 64 89\n",
            "the highest score in the class is: 91\n"
          ]
        }
      ]
    },
    {
      "cell_type": "code",
      "source": [
        "#use a for loop with the range function\n",
        "for number in range (1, 11, 3):\n",
        "  print(number)"
      ],
      "metadata": {
        "colab": {
          "base_uri": "https://localhost:8080/"
        },
        "id": "Be42erbvaqDK",
        "outputId": "7eb5f157-69ee-4af4-c0fd-930e2baa808f"
      },
      "execution_count": null,
      "outputs": [
        {
          "output_type": "stream",
          "name": "stdout",
          "text": [
            "1\n",
            "4\n",
            "7\n",
            "10\n"
          ]
        }
      ]
    },
    {
      "cell_type": "code",
      "source": [
        "#add up numbers 1-100\n",
        "total = 0\n",
        "for number in range(1, 101):\n",
        "  total += number\n",
        "print(total)  "
      ],
      "metadata": {
        "colab": {
          "base_uri": "https://localhost:8080/"
        },
        "id": "01nlyQyabajK",
        "outputId": "a634e1de-b0ad-4158-f50f-023b15359e7f"
      },
      "execution_count": null,
      "outputs": [
        {
          "output_type": "stream",
          "name": "stdout",
          "text": [
            "5050\n"
          ]
        }
      ]
    },
    {
      "cell_type": "code",
      "source": [
        "#add up all even numbers 1-100\n",
        "total = 0\n",
        "for number in range (2, 101, 2):\n",
        "  total += number\n",
        "print(total)"
      ],
      "metadata": {
        "colab": {
          "base_uri": "https://localhost:8080/"
        },
        "id": "eRBoIlMYdKTl",
        "outputId": "cc43bfa3-3e72-4c3d-d0ed-9da2eef9c7ef"
      },
      "execution_count": null,
      "outputs": [
        {
          "output_type": "stream",
          "name": "stdout",
          "text": [
            "2550\n"
          ]
        }
      ]
    },
    {
      "cell_type": "code",
      "source": [
        "#fizzbuzz game\n",
        "for number in range (1, 101):\n",
        "  if number % 3 == 0 and number % 5 == 0:\n",
        "    print(\"FizzBuzz\")\n",
        "  elif number % 3 == 0:\n",
        "    print(\"Fizz\")\n",
        "  elif number % 5 == 0:\n",
        "    print(\"Buzz\")\n",
        "  else:\n",
        "    print(number)"
      ],
      "metadata": {
        "id": "8SSbIMBgaxsq"
      },
      "execution_count": null,
      "outputs": []
    },
    {
      "cell_type": "code",
      "source": [
        "#create a random password generator\n",
        "import random\n",
        "#password with characters in order (letters + numbers + symbols)\n",
        "letters = ['a', 'b', 'c', 'd', 'e', 'f', 'g', 'h', 'i', 'j', 'k', 'l', 'm', 'n', 'o', 'p', 'q', 'r', 's', 't', 'u', 'v', 'w', 'x', 'y', 'z', 'A', 'B', 'C', 'D', 'E', 'F', 'G', 'H', 'I', 'J', 'K', 'L', 'M', 'N', 'O', 'P', 'Q', 'R', 'S', 'T', 'U', 'V', 'W', 'X', 'Y', 'Z']\n",
        "numbers = ['0', '1', '2', '3', '4', '5', '6', '7', '8', '9']\n",
        "symbols = ['!', '#', '$', '%', '&', '(', ')', '*', '+']\n",
        "\n",
        "print(\"Welcome to the PyPassword Generator!\")\n",
        "nr_letters= int(input(\"How many letters would you like in your password?\\n\")) \n",
        "nr_symbols = int(input(f\"How many symbols would you like?\\n\"))\n",
        "nr_numbers = int(input(f\"How many numbers would you like?\\n\"))\n",
        "\n",
        "password = \"\"\n",
        "for char in range(1, nr_letters + 1):\n",
        "  password += random.choice(letters)\n",
        "for char in range(1, nr_symbols + 1):\n",
        "  password += random.choice(symbols)\n",
        "  for char in range(1, nr_numbers + 1):\n",
        "    password += random.choice(numbers)\n",
        "print(password)\n",
        "  "
      ],
      "metadata": {
        "id": "ONWBy7H6cmsS"
      },
      "execution_count": null,
      "outputs": []
    },
    {
      "cell_type": "code",
      "source": [
        "#password with all characters in random order\n",
        "#note: need to first put characters in a list to use the random.shuffle module\n",
        "letters = ['a', 'b', 'c', 'd', 'e', 'f', 'g', 'h', 'i', 'j', 'k', 'l', 'm', 'n', 'o', 'p', 'q', 'r', 's', 't', 'u', 'v', 'w', 'x', 'y', 'z', 'A', 'B', 'C', 'D', 'E', 'F', 'G', 'H', 'I', 'J', 'K', 'L', 'M', 'N', 'O', 'P', 'Q', 'R', 'S', 'T', 'U', 'V', 'W', 'X', 'Y', 'Z']\n",
        "numbers = ['0', '1', '2', '3', '4', '5', '6', '7', '8', '9']\n",
        "symbols = ['!', '#', '$', '%', '&', '(', ')', '*', '+']\n",
        "\n",
        "print(\"Welcome to the PyPassword Generator!\")\n",
        "nr_letters= int(input(\"How many letters would you like in your password?\\n\")) \n",
        "nr_symbols = int(input(f\"How many symbols would you like?\\n\"))\n",
        "nr_numbers = int(input(f\"How many numbers would you like?\\n\"))\n",
        "\n",
        "password_list = []\n",
        "for char in range(1, nr_letters + 1):\n",
        "  password_list.append(random.choice(letters))\n",
        "for char in range(1, nr_symbols + 1):\n",
        "  password_list.append(random.choice(symbols))\n",
        "  for char in range(1, nr_numbers + 1):\n",
        "    password_list.append(random.choice(numbers))\n",
        "random.shuffle(password_list)\n",
        "\n",
        "password = \"\"\n",
        "for char in password_list:\n",
        "  password += char\n",
        "print(f\"Your password is: {password}\")\n"
      ],
      "metadata": {
        "colab": {
          "base_uri": "https://localhost:8080/"
        },
        "id": "xVnHWHtLhqtt",
        "outputId": "60cc6838-b460-47c4-fb6c-5d694110daf3"
      },
      "execution_count": 16,
      "outputs": [
        {
          "output_type": "stream",
          "name": "stdout",
          "text": [
            "Welcome to the PyPassword Generator!\n",
            "How many letters would you like in your password?\n",
            "5\n",
            "How many symbols would you like?\n",
            "1\n",
            "How many numbers would you like?\n",
            "2\n",
            "Your password is: gh&D2dI7\n"
          ]
        }
      ]
    }
  ]
}