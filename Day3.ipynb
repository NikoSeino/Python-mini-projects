{
  "nbformat": 4,
  "nbformat_minor": 0,
  "metadata": {
    "colab": {
      "provenance": []
    },
    "kernelspec": {
      "name": "python3",
      "display_name": "Python 3"
    },
    "language_info": {
      "name": "python"
    }
  },
  "cells": [
    {
      "cell_type": "code",
      "execution_count": null,
      "metadata": {
        "colab": {
          "base_uri": "https://localhost:8080/"
        },
        "collapsed": true,
        "id": "oEkP_2CHborZ",
        "outputId": "3c924ba8-35d1-4727-f7c6-78bca76a5e8d"
      },
      "outputs": [
        {
          "output_type": "stream",
          "name": "stdout",
          "text": [
            "Welcome to the rollercoaster!\n",
            "What is your height in cm? 120\n",
            "You can ride the rollercoaster.\n"
          ]
        }
      ],
      "source": [
        "#Conditional statements\n",
        "print(\"Welcome to the rollercoaster!\")\n",
        "height = int(input(\"What is your height in cm? \"))\n",
        "if height >= 120:\n",
        "  print(\"You can ride the rollercoaster.\")\n",
        "else:\n",
        "  print(\"Sorry, you have to grow taller before you can ride.\")\n",
        "#note: indentations are important. if/else should line up"
      ]
    },
    {
      "cell_type": "code",
      "source": [
        "number = int(input(\"Which number do you want to check? \"))\n",
        "if number % 2 == 0:\n",
        "  print(\"This is an even number\")\n",
        "else:\n",
        "  print(\"This is an odd number\")"
      ],
      "metadata": {
        "colab": {
          "base_uri": "https://localhost:8080/"
        },
        "collapsed": true,
        "id": "8pAch3PVfaOF",
        "outputId": "7a7eefd4-79d0-4075-e930-5843340049f1"
      },
      "execution_count": null,
      "outputs": [
        {
          "output_type": "stream",
          "name": "stdout",
          "text": [
            "Which number do you want to check? 21\n",
            "This is an odd number\n"
          ]
        }
      ]
    },
    {
      "cell_type": "code",
      "source": [
        "#Nested if/elif/else statements\n",
        "print(\"Welcome to the rollercoaster!\")\n",
        "height = int(input(\"What is your height in cm? \"))\n",
        "bill = 0    #added a new variable for the new if statement\n",
        "if height >= 120:\n",
        "  print(\"You can ride the rollercoaster.\")\n",
        "  age = int(input(\"What is your age? \"))\n",
        "  if age < 12:\n",
        "    bill = 5\n",
        "    #print(\"Please pay $5.\")\n",
        "  elif age <= 18:\n",
        "    bill = 7\n",
        "    #print(\"Please pay $7.\")\n",
        "  else:\n",
        "    bill = 12\n",
        "    #print(\"Please pay $12.\")\n",
        "  wants_photo = input(\"Do you want to add a photo? Y or N. \")\n",
        "  if wants_photo == \"Y\":\n",
        "    bill += 3\n",
        "  print(f\"Your final bill is ${bill}\")\n",
        "\n",
        "else:\n",
        "  print(\"Sorry, you have to grow taller before you can ride.\")\n",
        "\n",
        "#Added another condition (want photo) requiring another if statement."
      ],
      "metadata": {
        "colab": {
          "base_uri": "https://localhost:8080/"
        },
        "collapsed": true,
        "id": "aePc0M0vgaZe",
        "outputId": "37a63d6e-1add-4cd5-9d3a-af48e92746e5"
      },
      "execution_count": null,
      "outputs": [
        {
          "output_type": "stream",
          "name": "stdout",
          "text": [
            "Welcome to the rollercoaster!\n",
            "What is your height in cm? 130\n",
            "You can ride the rollercoaster.\n",
            "What is your age? 15\n",
            "Do you want to add a photo? Y or N. N\n",
            "Your final bill is $7\n"
          ]
        }
      ]
    },
    {
      "cell_type": "code",
      "source": [
        "#Updated BMI calculator with ranges\n",
        "height = input(\"enter your height in inches: \")\n",
        "weight = input(\"enter your weight in lbs: \")\n",
        "bmi = (int(weight)*703)/float(height)**2\n",
        "if bmi < 18.5:\n",
        "  print(f\"Your BMI is {int(bmi)}. You are underweight.\")\n",
        "elif bmi < 25:\n",
        "  print(f\"Your BMI is {int(bmi)}. You have a normal weight.\")\n",
        "elif bmi <30:\n",
        "  print(f\"Your BMI is {int(bmi)}. You are slightly overweight.\")\n",
        "elif bmi <35:\n",
        "  print(f\"Your BMI is {int(bmi)}. You are obese.\")\n",
        "else:\n",
        "  print(f\"Your BMI is {int(bmi)}. You are clinically obese.\")"
      ],
      "metadata": {
        "colab": {
          "base_uri": "https://localhost:8080/"
        },
        "collapsed": true,
        "id": "SUto1LBvh2f5",
        "outputId": "d5921bca-9e3a-482b-e72d-1298eadfc01d"
      },
      "execution_count": null,
      "outputs": [
        {
          "output_type": "stream",
          "name": "stdout",
          "text": [
            "enter your height in inches: 60\n",
            "enter your weight in lbs: 100\n",
            "Your BMI is 19. You have a normal weight.\n"
          ]
        }
      ]
    },
    {
      "cell_type": "code",
      "source": [
        "#Is it a leap year?\n",
        "year = int(input(\"Enter the year: \"))\n",
        "if year % 4 == 0:\n",
        "  if year % 100 == 0:\n",
        "    if year % 400 == 0:\n",
        "      print(\"Leap year\")\n",
        "    else:\n",
        "      print(\"Not leap year\")\n",
        "  else:\n",
        "    print(\"Leap year\")\n",
        "else:\n",
        "  print(\"Not a leap year.\") "
      ],
      "metadata": {
        "colab": {
          "base_uri": "https://localhost:8080/"
        },
        "collapsed": true,
        "id": "0MKK6QX6lJcV",
        "outputId": "74d02754-d414-4ad9-eb9f-b51671b4ca30"
      },
      "execution_count": null,
      "outputs": [
        {
          "output_type": "stream",
          "name": "stdout",
          "text": [
            "Enter the year: 2024\n",
            "Leap year\n"
          ]
        }
      ]
    },
    {
      "cell_type": "code",
      "source": [
        "#Pizza ordering service\n",
        "print(\"Welcome to Python Pizza!\")\n",
        "size = input(\"What size pizza do you want? S, M, or L \")\n",
        "add_pep = input(\"Do you want pepperoni? Y or N \")\n",
        "add_cheese = input(\"Do you want extra cheese? Y or N \")\n",
        "bill = 0\n",
        "\n",
        "if size == 'S':\n",
        "  bill += 15\n",
        "elif size == \"M\":\n",
        "  bill += 20\n",
        "else:\n",
        "  bill += 25\n",
        "\n",
        "if add_pep == \"Y\":\n",
        "  if size == \"S\":\n",
        "    bill += 2\n",
        "  else:\n",
        "    bill += 3\n",
        "\n",
        "if add_cheese == \"Y\":\n",
        "  bill += 1\n",
        "\n",
        "print(f\"Your final bill is ${bill}.\")"
      ],
      "metadata": {
        "colab": {
          "base_uri": "https://localhost:8080/"
        },
        "collapsed": true,
        "id": "EvLMjCHcsusU",
        "outputId": "8b281070-52e7-4473-ef4d-5757d4ef79f1"
      },
      "execution_count": null,
      "outputs": [
        {
          "output_type": "stream",
          "name": "stdout",
          "text": [
            "Welcome to Python Pizza!\n",
            "What size pizza do you want? S, M, or L L\n",
            "Do you want pepperoni? Y or N Y\n",
            "Do you want extra cheese? Y or N Y\n",
            "Your final bill is $29.\n"
          ]
        }
      ]
    },
    {
      "cell_type": "code",
      "source": [
        "#Create a \"love calculator\"\n",
        "print(\"Welcome to the Love Calculator!\")\n",
        "name1 = input(\"What is your name? \\n\")\n",
        "name2 = input(\"What is their name? \\n\")\n",
        "\n",
        "names = name1.lower() + name2.lower()\n",
        "true = names.count(\"t\") + names.count(\"r\") + names.count(\"u\") + names.count(\"e\")\n",
        "love = names.count(\"l\") + names.count(\"o\") + names.count(\"v\") + names.count(\"e\")\n",
        "\n",
        "lovescore = str(true) + str(love)\n",
        "lovescore2 = int(lovescore)\n",
        "\n",
        "if lovescore2 < 10 or lovescore2 > 90:\n",
        "  print(f\"your love score is {lovescore}, you go together like coke and mentos.\")\n",
        "elif lovescore2 > 40 and lovescore2 < 50:\n",
        "  print(f\"your lovescore is {lovescore}, you are alright together.\")\n",
        "else:\n",
        "  print(f\"your lovescore is {lovescore}.\")"
      ],
      "metadata": {
        "colab": {
          "base_uri": "https://localhost:8080/"
        },
        "collapsed": true,
        "id": "ZQENMzOdt-FA",
        "outputId": "c8ee8152-7e1c-4f01-812d-2b6c93479e2e"
      },
      "execution_count": null,
      "outputs": [
        {
          "output_type": "stream",
          "name": "stdout",
          "text": [
            "Welcome to the Love Calculator!\n",
            "What is your name? \n",
            "Kanye West\n",
            "What is their name? \n",
            "Kim Kardashian\n",
            "your lovescore is 42, you are alright together.\n"
          ]
        }
      ]
    },
    {
      "cell_type": "code",
      "source": [
        "#Create a 'choose your own adventure' story\n",
        "\n",
        "print(\"Welcome to Treasure Island.\")\n",
        "print(\"Your mission is to find the treasure.\") \n",
        "\n",
        "choice1 = (input(\"Which direction will you choose? Type left or right. \\n\")).lower()\n",
        "if choice1 == \"left\":\n",
        "  choice2 = (input(\"You come across a lake. Do you swim across, or wait for a boat? Type swim or wait. \\n\")).lower()\n",
        "  if choice2 == \"wait\":\n",
        "    choice3 = (input(\"You arrive at an island with three doors. Which door do you choose: red, yellow, or blue? \\n\")).lower()\n",
        "    if choice3 == \"red\":\n",
        "      print(\"It's a room full of fire. Game over.\")\n",
        "    elif choice3 == \"yellow\":\n",
        "      print(\"You found the treasure! You win!\")\n",
        "    elif choice3 == \"blue\":\n",
        "      print(\"You enter a room full of beasts. Game over.\")\n",
        "    else: \n",
        "      print(\"You chose a door that doesn\\'t exist. Game over.\")\n",
        "  else:\n",
        "    print(\"You get attacked by a crocodile. Game over.\")\n",
        "else:\n",
        "  print(\"You fall into a hole. Game over.\")\n",
        "\n"
      ],
      "metadata": {
        "colab": {
          "base_uri": "https://localhost:8080/"
        },
        "collapsed": true,
        "id": "UcW576WhlGL9",
        "outputId": "e6043388-6f59-4f93-e3d9-1586bc7ae3ec"
      },
      "execution_count": null,
      "outputs": [
        {
          "output_type": "stream",
          "name": "stdout",
          "text": [
            "Welcome to Treasure Island.\n",
            "Your mission is to find the treasure.\n",
            "Which direction will you choose? Type left or right. \n",
            "Left\n",
            "You come across a lake. Do you swim across, or wait for a boat? Type swim or wait. \n",
            "wait\n",
            "You arrive at an island with three doors. Which door do you choose: red, yellow, or blue? \n",
            "yellow\n",
            "You found the treasure! You win!\n"
          ]
        }
      ]
    }
  ]
}